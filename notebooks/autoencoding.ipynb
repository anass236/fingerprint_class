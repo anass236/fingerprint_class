{
 "cells": [
  {
   "cell_type": "code",
   "execution_count": 1,
   "metadata": {},
   "outputs": [
    {
     "data": {
      "text/plain": [
       "<AddedDllDirectory('C:/tools/cuda/bin')>"
      ]
     },
     "execution_count": 1,
     "metadata": {},
     "output_type": "execute_result"
    }
   ],
   "source": [
    "import os\n",
    "\n",
    "os.add_dll_directory(\"C:/Program Files/NVIDIA GPU Computing Toolkit/CUDA/v11.0/bin\")\n",
    "os.add_dll_directory(\"C:/tools/cuda/bin\")"
   ]
  },
  {
   "cell_type": "code",
   "execution_count": 44,
   "metadata": {},
   "outputs": [],
   "source": [
    "import tensorflow as tf\n",
    "from utils.conf import ROOT_DIR\n",
    "import os\n",
    "import cv2\n",
    "from tensorflow.keras.preprocessing.image import ImageDataGenerator\n",
    "from sklearn.model_selection import train_test_split\n",
    "from tensorflow.keras.models import Sequential\n",
    "from tensorflow.keras.layers import Dense, Dropout, Conv2D, MaxPooling2D, Flatten, BatchNormalization\n",
    "from tensorflow.keras.utils import plot_model\n",
    "from tensorflow.keras.preprocessing.image import load_img, img_to_array\n",
    "import numpy as np\n",
    "from tensorflow.keras.models import Model\n",
    "from tensorflow.keras import layers, losses\n",
    "import matplotlib.pyplot as plt"
   ]
  },
  {
   "cell_type": "code",
   "execution_count": 4,
   "metadata": {},
   "outputs": [
    {
     "data": {
      "text/plain": [
       "[PhysicalDevice(name='/physical_device:CPU:0', device_type='CPU'),\n",
       " PhysicalDevice(name='/physical_device:GPU:0', device_type='GPU')]"
      ]
     },
     "execution_count": 4,
     "metadata": {},
     "output_type": "execute_result"
    }
   ],
   "source": [
    "tf.config.list_physical_devices()"
   ]
  },
  {
   "cell_type": "code",
   "execution_count": 75,
   "metadata": {},
   "outputs": [],
   "source": [
    "def loading_data(path, img_size):\n",
    "    print(\"loading data from: \",path)\n",
    "    data = []\n",
    "    for img in os.listdir(path):\n",
    "        img_array = cv2.imread(os.path.join(path, img), cv2.IMREAD_GRAYSCALE)\n",
    "        img_resize = cv2.resize(img_array, (img_size, img_size))\n",
    "        data.append(img_resize)\n",
    "    return data"
   ]
  },
  {
   "cell_type": "code",
   "execution_count": 95,
   "metadata": {},
   "outputs": [
    {
     "name": "stdout",
     "output_type": "stream",
     "text": [
      "loading data from:  C:\\Users\\anass\\my_ds\\fingerprint_class\\SOCOFing\\Altered\\Altered-Easy\n",
      "loading data from:  C:\\Users\\anass\\my_ds\\fingerprint_class\\SOCOFing\\Altered\\Altered-Medium\n",
      "loading data from:  C:\\Users\\anass\\my_ds\\fingerprint_class\\SOCOFing\\Altered\\Altered-Medium\n"
     ]
    }
   ],
   "source": [
    "src_data = os.path.join(ROOT_DIR,\"SOCOFing\")\n",
    "easy_data = loading_data(os.path.join(src_data, os.path.join(\"Altered\",\"Altered-Easy\")), img_size=28)\n",
    "medium_data = loading_data(os.path.join(src_data, os.path.join(\"Altered\",\"Altered-Medium\")), img_size=28)\n",
    "hard_data = loading_data(os.path.join(src_data, os.path.join(\"Altered\",\"Altered-Medium\")), img_size=28)"
   ]
  },
  {
   "cell_type": "code",
   "execution_count": 96,
   "metadata": {},
   "outputs": [],
   "source": [
    "data = np.concatenate([easy_data, medium_data, hard_data], axis=0)"
   ]
  },
  {
   "cell_type": "code",
   "execution_count": 97,
   "metadata": {},
   "outputs": [],
   "source": [
    "x_train, x_test = train_test_split(data, test_size=0.2, random_state=0)"
   ]
  },
  {
   "cell_type": "code",
   "execution_count": 114,
   "metadata": {},
   "outputs": [
    {
     "ename": "AttributeError",
     "evalue": "\n        'EagerTensor' object has no attribute 'astype'.\n        If you are looking for numpy-related methods, please run the following:\n        import tensorflow.python.ops.numpy_ops.np_config\n        np_config.enable_numpy_behavior()",
     "output_type": "error",
     "traceback": [
      "\u001B[1;31m---------------------------------------------------------------------------\u001B[0m",
      "\u001B[1;31mAttributeError\u001B[0m                            Traceback (most recent call last)",
      "\u001B[1;32m<ipython-input-114-fc333a99d18d>\u001B[0m in \u001B[0;36m<module>\u001B[1;34m\u001B[0m\n\u001B[1;32m----> 1\u001B[1;33m \u001B[0mx_train\u001B[0m \u001B[1;33m=\u001B[0m \u001B[0mx_train\u001B[0m\u001B[1;33m.\u001B[0m\u001B[0mastype\u001B[0m\u001B[1;33m(\u001B[0m\u001B[1;34m'float32'\u001B[0m\u001B[1;33m)\u001B[0m \u001B[1;33m/\u001B[0m \u001B[1;36m255.\u001B[0m\u001B[1;33m\u001B[0m\u001B[1;33m\u001B[0m\u001B[0m\n\u001B[0m\u001B[0;32m      2\u001B[0m \u001B[0mx_test\u001B[0m \u001B[1;33m=\u001B[0m \u001B[0mx_test\u001B[0m\u001B[1;33m.\u001B[0m\u001B[0mastype\u001B[0m\u001B[1;33m(\u001B[0m\u001B[1;34m'float32'\u001B[0m\u001B[1;33m)\u001B[0m \u001B[1;33m/\u001B[0m \u001B[1;36m255.\u001B[0m\u001B[1;33m\u001B[0m\u001B[1;33m\u001B[0m\u001B[0m\n\u001B[0;32m      3\u001B[0m \u001B[0mx_train\u001B[0m \u001B[1;33m=\u001B[0m \u001B[0mtf\u001B[0m\u001B[1;33m.\u001B[0m\u001B[0mexpand_dims\u001B[0m\u001B[1;33m(\u001B[0m\u001B[0mx_train\u001B[0m\u001B[1;33m,\u001B[0m \u001B[0maxis\u001B[0m\u001B[1;33m=\u001B[0m\u001B[1;33m-\u001B[0m\u001B[1;36m1\u001B[0m\u001B[1;33m)\u001B[0m\u001B[1;33m\u001B[0m\u001B[1;33m\u001B[0m\u001B[0m\n\u001B[0;32m      4\u001B[0m \u001B[0mx_test\u001B[0m \u001B[1;33m=\u001B[0m \u001B[0mtf\u001B[0m\u001B[1;33m.\u001B[0m\u001B[0mexpand_dims\u001B[0m\u001B[1;33m(\u001B[0m\u001B[0mx_test\u001B[0m\u001B[1;33m,\u001B[0m \u001B[0maxis\u001B[0m\u001B[1;33m=\u001B[0m\u001B[1;33m-\u001B[0m\u001B[1;36m1\u001B[0m\u001B[1;33m)\u001B[0m\u001B[1;33m\u001B[0m\u001B[1;33m\u001B[0m\u001B[0m\n\u001B[0;32m      5\u001B[0m \u001B[0mprint\u001B[0m \u001B[1;33m(\u001B[0m\u001B[0mx_train\u001B[0m\u001B[1;33m.\u001B[0m\u001B[0mshape\u001B[0m\u001B[1;33m)\u001B[0m\u001B[1;33m\u001B[0m\u001B[1;33m\u001B[0m\u001B[0m\n",
      "\u001B[1;32mc:\\users\\anass\\my_ds\\fingerprint_class\\vfinger\\lib\\site-packages\\tensorflow\\python\\framework\\ops.py\u001B[0m in \u001B[0;36m__getattr__\u001B[1;34m(self, name)\u001B[0m\n\u001B[0;32m    394\u001B[0m                 \"tolist\", \"data\"}:\n\u001B[0;32m    395\u001B[0m       \u001B[1;31m# TODO(wangpeng): Export the enable_numpy_behavior knob\u001B[0m\u001B[1;33m\u001B[0m\u001B[1;33m\u001B[0m\u001B[1;33m\u001B[0m\u001B[0m\n\u001B[1;32m--> 396\u001B[1;33m       raise AttributeError(\"\"\"\n\u001B[0m\u001B[0;32m    397\u001B[0m         \u001B[1;34m'{}'\u001B[0m \u001B[0mobject\u001B[0m \u001B[0mhas\u001B[0m \u001B[0mno\u001B[0m \u001B[0mattribute\u001B[0m \u001B[1;34m'{}'\u001B[0m\u001B[1;33m.\u001B[0m\u001B[1;33m\u001B[0m\u001B[1;33m\u001B[0m\u001B[0m\n\u001B[0;32m    398\u001B[0m         \u001B[0mIf\u001B[0m \u001B[0myou\u001B[0m \u001B[0mare\u001B[0m \u001B[0mlooking\u001B[0m \u001B[1;32mfor\u001B[0m \u001B[0mnumpy\u001B[0m\u001B[1;33m-\u001B[0m\u001B[0mrelated\u001B[0m \u001B[0mmethods\u001B[0m\u001B[1;33m,\u001B[0m \u001B[0mplease\u001B[0m \u001B[0mrun\u001B[0m \u001B[0mthe\u001B[0m \u001B[0mfollowing\u001B[0m\u001B[1;33m:\u001B[0m\u001B[1;33m\u001B[0m\u001B[1;33m\u001B[0m\u001B[0m\n",
      "\u001B[1;31mAttributeError\u001B[0m: \n        'EagerTensor' object has no attribute 'astype'.\n        If you are looking for numpy-related methods, please run the following:\n        import tensorflow.python.ops.numpy_ops.np_config\n        np_config.enable_numpy_behavior()"
     ]
    }
   ],
   "source": [
    "x_train = x_train.astype('float32') / 255.\n",
    "x_test = x_test.astype('float32') / 255.\n",
    "x_train = tf.expand_dims(x_train, axis=-1)\n",
    "x_test = tf.expand_dims(x_test, axis=-1)\n"
   ]
  },
  {
   "cell_type": "code",
   "execution_count": 115,
   "metadata": {},
   "outputs": [
    {
     "name": "stdout",
     "output_type": "stream",
     "text": [
      "(41652, 28, 28, 1)\n",
      "(10413, 28, 28, 1)\n"
     ]
    }
   ],
   "source": [
    "print (x_train.shape)\n",
    "print (x_test.shape)"
   ]
  },
  {
   "cell_type": "code",
   "execution_count": 122,
   "metadata": {},
   "outputs": [],
   "source": [
    "latent_dim = 64 \n",
    "\n",
    "class Autoencoder(Model):\n",
    "    def __init__(self, latent_dim):\n",
    "        super(Autoencoder, self).__init__()\n",
    "        self.latent_dim = latent_dim   \n",
    "        self.encoder = tf.keras.Sequential([\n",
    "          layers.Input(shape=(28, 28, 1)),\n",
    "          layers.Conv2D(32, (3,3), activation='relu', padding='same'),\n",
    "          layers.MaxPooling2D(2),\n",
    "          layers.Conv2D(16, (3,3), activation='relu', padding='same'),\n",
    "          layers.MaxPooling2D(2),\n",
    "          layers.Conv2D(8, (3,3), activation='relu', padding='same')\n",
    "        ])\n",
    "        self.decoder = tf.keras.Sequential([\n",
    "          layers.Conv2D(8, (3,3), activation='relu', padding='same'),\n",
    "          layers.UpSampling2D(2),\n",
    "          layers.Conv2DTranspose(32, kernel_size=3, activation='relu', padding='same'),\n",
    "          layers.UpSampling2D(2),\n",
    "          layers.Conv2D(1, (3,3), activation='sigmoid', padding='same')\n",
    "        ])\n",
    "\n",
    "    def call(self, x):\n",
    "        encoded = self.encoder(x)\n",
    "        decoded = self.decoder(encoded)\n",
    "        return decoded"
   ]
  },
  {
   "cell_type": "code",
   "execution_count": 123,
   "metadata": {},
   "outputs": [
    {
     "name": "stdout",
     "output_type": "stream",
     "text": [
      "WARNING:tensorflow:Collective ops is not configured at program startup. Some performance features may not be enabled.\n",
      "INFO:tensorflow:Using MirroredStrategy with devices ('/job:localhost/replica:0/task:0/device:GPU:0',)\n"
     ]
    }
   ],
   "source": [
    "mirrored_strategy = tf.distribute.MirroredStrategy(devices=[\"/gpu:0\"],cross_device_ops=tf.distribute.HierarchicalCopyAllReduce())"
   ]
  },
  {
   "cell_type": "code",
   "execution_count": 124,
   "metadata": {},
   "outputs": [
    {
     "name": "stdout",
     "output_type": "stream",
     "text": [
      "WARNING:tensorflow:Please add `keras.layers.InputLayer` instead of `keras.Input` to Sequential model. `keras.Input` is intended to be used by Functional model.\n",
      "Epoch 1/30\n",
      "326/326 [==============================] - 7s 13ms/step - loss: 0.0436 - val_loss: 0.0323\n",
      "Epoch 2/30\n",
      "326/326 [==============================] - 3s 9ms/step - loss: 0.0312 - val_loss: 0.0300\n",
      "Epoch 3/30\n",
      "326/326 [==============================] - 3s 9ms/step - loss: 0.0295 - val_loss: 0.0288\n",
      "Epoch 4/30\n",
      "326/326 [==============================] - 3s 9ms/step - loss: 0.0287 - val_loss: 0.0288\n",
      "Epoch 5/30\n",
      "326/326 [==============================] - 3s 8ms/step - loss: 0.0281 - val_loss: 0.0277\n",
      "Epoch 6/30\n",
      "326/326 [==============================] - 3s 8ms/step - loss: 0.0277 - val_loss: 0.0274\n",
      "Epoch 7/30\n",
      "326/326 [==============================] - 3s 9ms/step - loss: 0.0273 - val_loss: 0.0270\n",
      "Epoch 8/30\n",
      "326/326 [==============================] - 3s 9ms/step - loss: 0.0270 - val_loss: 0.0268\n",
      "Epoch 9/30\n",
      "326/326 [==============================] - 3s 8ms/step - loss: 0.0268 - val_loss: 0.0266\n",
      "Epoch 10/30\n",
      "326/326 [==============================] - 3s 9ms/step - loss: 0.0265 - val_loss: 0.0263\n",
      "Epoch 11/30\n",
      "326/326 [==============================] - 3s 9ms/step - loss: 0.0263 - val_loss: 0.0261\n",
      "Epoch 12/30\n",
      "326/326 [==============================] - 3s 9ms/step - loss: 0.0260 - val_loss: 0.0258\n",
      "Epoch 13/30\n",
      "326/326 [==============================] - 3s 9ms/step - loss: 0.0258 - val_loss: 0.0255\n",
      "Epoch 14/30\n",
      "326/326 [==============================] - 3s 9ms/step - loss: 0.0256 - val_loss: 0.0253\n",
      "Epoch 15/30\n",
      "326/326 [==============================] - 3s 9ms/step - loss: 0.0253 - val_loss: 0.0250\n",
      "Epoch 16/30\n",
      "326/326 [==============================] - 3s 9ms/step - loss: 0.0250 - val_loss: 0.0247\n",
      "Epoch 17/30\n",
      "326/326 [==============================] - 3s 9ms/step - loss: 0.0247 - val_loss: 0.0244\n",
      "Epoch 18/30\n",
      "326/326 [==============================] - 3s 9ms/step - loss: 0.0243 - val_loss: 0.0243\n",
      "Epoch 19/30\n",
      "326/326 [==============================] - 3s 9ms/step - loss: 0.0240 - val_loss: 0.0238\n",
      "Epoch 20/30\n",
      "326/326 [==============================] - 3s 9ms/step - loss: 0.0238 - val_loss: 0.0235\n",
      "Epoch 21/30\n",
      "326/326 [==============================] - 3s 9ms/step - loss: 0.0236 - val_loss: 0.0233\n",
      "Epoch 22/30\n",
      "326/326 [==============================] - 3s 9ms/step - loss: 0.0234 - val_loss: 0.0232\n",
      "Epoch 23/30\n",
      "326/326 [==============================] - 3s 9ms/step - loss: 0.0232 - val_loss: 0.0231\n",
      "Epoch 24/30\n",
      "326/326 [==============================] - 3s 9ms/step - loss: 0.0231 - val_loss: 0.0229\n",
      "Epoch 25/30\n",
      "326/326 [==============================] - 3s 9ms/step - loss: 0.0230 - val_loss: 0.0228\n",
      "Epoch 26/30\n",
      "326/326 [==============================] - 3s 9ms/step - loss: 0.0229 - val_loss: 0.0227\n",
      "Epoch 27/30\n",
      "326/326 [==============================] - 3s 9ms/step - loss: 0.0228 - val_loss: 0.0226\n",
      "Epoch 28/30\n",
      "326/326 [==============================] - 3s 9ms/step - loss: 0.0227 - val_loss: 0.0225\n",
      "Epoch 29/30\n",
      "326/326 [==============================] - 3s 9ms/step - loss: 0.0226 - val_loss: 0.0225\n",
      "Epoch 30/30\n",
      "326/326 [==============================] - 3s 9ms/step - loss: 0.0225 - val_loss: 0.0224\n"
     ]
    }
   ],
   "source": [
    "tf.keras.backend.clear_session()\n",
    "with mirrored_strategy.scope():\n",
    "    autoencoder = Autoencoder(latent_dim)\n",
    "    autoencoder.compile(optimizer='adam', loss=losses.MeanSquaredError())\n",
    "    autoencoder.fit(x_train, x_train,\n",
    "                epochs=30,\n",
    "                batch_size=128,\n",
    "                shuffle=True,\n",
    "                validation_data=(x_test, x_test))"
   ]
  },
  {
   "cell_type": "code",
   "execution_count": 125,
   "metadata": {},
   "outputs": [],
   "source": [
    "encoded_imgs = autoencoder.encoder(x_test).numpy()\n",
    "decoded_imgs = autoencoder.decoder(encoded_imgs).numpy()"
   ]
  },
  {
   "cell_type": "code",
   "execution_count": 126,
   "metadata": {},
   "outputs": [
    {
     "data": {
      "image/png": "[encoded data removed]",
      "text/plain": [
       "<Figure size 1440x288 with 20 Axes>"
      ]
     },
     "metadata": {
      "needs_background": "light"
     },
     "output_type": "display_data"
    }
   ],
   "source": [
    "n = 10\n",
    "plt.figure(figsize=(20, 4))\n",
    "for i in range(n):\n",
    "    # display original\n",
    "    ax = plt.subplot(2, n, i + 1)\n",
    "    plt.imshow(x_test[i])\n",
    "    plt.title(\"original\")\n",
    "    plt.gray()\n",
    "    ax.get_xaxis().set_visible(False)\n",
    "    ax.get_yaxis().set_visible(False)\n",
    "\n",
    "    # display reconstruction\n",
    "    ax = plt.subplot(2, n, i + 1 + n)\n",
    "    plt.imshow(decoded_imgs[i])\n",
    "    plt.title(\"reconstructed\")\n",
    "    plt.gray()\n",
    "    ax.get_xaxis().set_visible(False)\n",
    "    ax.get_yaxis().set_visible(False)\n",
    "plt.show()"
   ]
  },
  {
   "cell_type": "code",
   "execution_count": 128,
   "metadata": {},
   "outputs": [
    {
     "data": {
      "text/plain": [
       "(10413, 28, 28, 1)"
      ]
     },
     "execution_count": 128,
     "metadata": {},
     "output_type": "execute_result"
    }
   ],
   "source": [
    "decoded_imgs.shape"
   ]
  },
  {
   "cell_type": "code",
   "execution_count": null,
   "metadata": {},
   "outputs": [],
   "source": []
  }
 ],
 "metadata": {
  "kernelspec": {
   "display_name": "Python 3",
   "language": "python",
   "name": "python3"
  },
  "language_info": {
   "codemirror_mode": {
    "name": "ipython",
    "version": 3
   },
   "file_extension": ".py",
   "mimetype": "text/x-python",
   "name": "python",
   "nbconvert_exporter": "python",
   "pygments_lexer": "ipython3",
   "version": "3.8.10"
  }
 },
 "nbformat": 4,
 "nbformat_minor": 1
}